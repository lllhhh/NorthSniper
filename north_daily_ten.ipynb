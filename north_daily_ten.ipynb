{
 "metadata": {
  "language_info": {
   "codemirror_mode": {
    "name": "ipython",
    "version": 3
   },
   "file_extension": ".py",
   "mimetype": "text/x-python",
   "name": "python",
   "nbconvert_exporter": "python",
   "pygments_lexer": "ipython3",
   "version": "3.7.2-final"
  },
  "orig_nbformat": 2,
  "kernelspec": {
   "name": "python3",
   "display_name": "Python 3.7.2 64-bit",
   "metadata": {
    "interpreter": {
     "hash": "df955ce39d0f31d56d4bb2fe0a613e5326ba60723fd33d8303a3aede8f65715c"
    }
   }
  }
 },
 "nbformat": 4,
 "nbformat_minor": 2,
 "cells": [
  {
   "cell_type": "code",
   "execution_count": 11,
   "metadata": {},
   "outputs": [],
   "source": [
    "import requests\n",
    "import pandas as pd \n",
    "import json\n",
    "import time"
   ]
  },
  {
   "source": [
    "# 沪深股通十大成交股"
   ],
   "cell_type": "markdown",
   "metadata": {}
  },
  {
   "cell_type": "code",
   "execution_count": 27,
   "metadata": {},
   "outputs": [
    {
     "output_type": "stream",
     "name": "stdout",
     "text": [
      "   ChangePercent    Close    Code           DetailDate       HGTCJJE  \\\n0        -0.9955  1989.99  600519  2021-03-22T00:00:00  1.993322e+09   \n1         3.9026    53.78  600036  2021-03-22T00:00:00  1.369807e+09   \n2         2.1649    36.81  600031  2021-03-22T00:00:00  1.275064e+09   \n3         0.2260    79.82  601318  2021-03-22T00:00:00  1.181605e+09   \n4         1.6604   311.65  601888  2021-03-22T00:00:00  1.170927e+09   \n5         1.3804    80.05  601012  2021-03-22T00:00:00  1.112842e+09   \n6        -4.2867   110.30  600309  2021-03-22T00:00:00  1.018750e+09   \n7         0.0681    88.11  600276  2021-03-22T00:00:00  9.177565e+08   \n8        -0.3996     9.97  600516  2021-03-22T00:00:00  8.734767e+08   \n9         5.2016    24.27  600703  2021-03-22T00:00:00  6.204497e+08   \n\n        HGTJME      HGTMCJE       HGTMRJE  MarketType  Name  Rank Rank1  \n0  393464315.0  799928692.0  1.193393e+09         1.0  贵州茅台   1.0     -  \n1  303869342.0  532968758.0  8.368381e+08         1.0  招商银行   2.0     -  \n2 -115412817.0  695238311.0  5.798255e+08         1.0  三一重工   3.0     -  \n3  -65198812.0  623401701.0  5.582029e+08         1.0  中国平安   4.0     -  \n4 -361979045.0  766452874.0  4.044738e+08         1.0  中国中免   5.0     -  \n5 -356199658.0  734521028.0  3.783214e+08         1.0  隆基股份   6.0     -  \n6  269201424.0  374774150.0  6.439756e+08         1.0  万华化学   7.0     -  \n7  199671266.0  359042607.0  5.587139e+08         1.0  恒瑞医药   8.0     -  \n8 -262673198.0  568074926.0  3.054017e+08         1.0  方大炭素   9.0     -  \n9  193008364.0  213720687.0  4.067291e+08         1.0  三安光电  10.0     -  \n   ChangePercent   Close    Code           DetailDate HGTCJJE HGTJME HGTMCJE  \\\n0        -2.7488  307.80  300750  2021-03-22T00:00:00       -      -       -   \n1         5.1495    6.33  000725  2021-03-22T00:00:00       -      -       -   \n2         8.4746   10.24  000100  2021-03-22T00:00:00       -      -       -   \n3        -1.5067   35.30  002475  2021-03-22T00:00:00       -      -       -   \n4         1.7354   66.83  300274  2021-03-22T00:00:00       -      -       -   \n5        -0.4947  259.50  000858  2021-03-22T00:00:00       -      -       -   \n6         5.2760   21.55  000001  2021-03-22T00:00:00       -      -       -   \n7         1.5483  173.80  002594  2021-03-22T00:00:00       -      -       -   \n8        -0.8399   85.00  002352  2021-03-22T00:00:00       -      -       -   \n9         1.5667   60.94  000651  2021-03-22T00:00:00       -      -       -   \n\n  HGTMRJE  MarketType   Name  Rank Rank1  \n0       -         3.0   宁德时代   1.0     -  \n1       -         3.0   京东方A   2.0     -  \n2       -         3.0  TCL科技   3.0     -  \n3       -         3.0   立讯精密   4.0     -  \n4       -         3.0   阳光电源   5.0     -  \n5       -         3.0    五粮液   6.0     -  \n6       -         3.0   平安银行   7.0     -  \n7       -         3.0    比亚迪   8.0     -  \n8       -         3.0   顺丰控股   9.0     -  \n9       -         3.0   格力电器  10.0     -  \n"
     ]
    }
   ],
   "source": [
    "get_north_ten_reports()"
   ]
  },
  {
   "cell_type": "code",
   "execution_count": 26,
   "metadata": {},
   "outputs": [],
   "source": [
    "def get_north_ten_reports():\n",
    "    # 查询日期\n",
    "    date = input('输入查询沪深股通的日期，如 2021-03-22 ，默认为今天：')\n",
    "    if date.strip() == '':\n",
    "        date = time.strftime('%Y-%m-%d',time.localtime(time.time()))\n",
    "    \n",
    "    # 查询数据\n",
    "    types = ['1', '3']\n",
    "    for m_type in types:\n",
    "        df = get_north_ten_df(date, m_type)\n",
    "        print(df)"
   ]
  },
  {
   "cell_type": "code",
   "execution_count": 19,
   "metadata": {},
   "outputs": [],
   "source": [
    "def get_north_ten_df(date, m_type):\n",
    "    ten = get_north__daily_ten(date, m_type)\n",
    "    df = pd.DataFrame(ten)\n",
    "    return df"
   ]
  },
  {
   "cell_type": "code",
   "execution_count": 6,
   "metadata": {},
   "outputs": [],
   "source": [
    "def get_north__daily_ten(date, MUTUAL_TYPE):\n",
    "    date = date\n",
    "    MUTUAL_TYPE = MUTUAL_TYPE\n",
    "    url = 'http://dcfm.eastmoney.com/em_mutisvcexpandinterface/api/js/get?st=DetailDate,Rank&sr=1&ps=10&p=1&type=HSGTCJB&sty=HGT&token=70f12f2f4f091e459a279469fe49eca5&filter=(MarketType={})(DetailDate=^{}^)'.format(MUTUAL_TYPE,date)\n",
    "\n",
    "    response = requests.get(url)\n",
    "    if response.status_code == 200:\n",
    "        response_json = response.json()\n",
    "        if type(response_json) is list and len(response_json) > 0:\n",
    "            return response_json\n",
    "    else:\n",
    "        print('数据请求失败，请重试.')"
   ]
  }
 ]
}