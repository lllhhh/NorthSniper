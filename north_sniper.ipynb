{
 "metadata": {
  "language_info": {
   "codemirror_mode": {
    "name": "ipython",
    "version": 3
   },
   "file_extension": ".py",
   "mimetype": "text/x-python",
   "name": "python",
   "nbconvert_exporter": "python",
   "pygments_lexer": "ipython3",
   "version": "3.7.2-final"
  },
  "orig_nbformat": 2,
  "kernelspec": {
   "name": "python3",
   "display_name": "Python 3.7.2 64-bit",
   "metadata": {
    "interpreter": {
     "hash": "df955ce39d0f31d56d4bb2fe0a613e5326ba60723fd33d8303a3aede8f65715c"
    }
   }
  }
 },
 "nbformat": 4,
 "nbformat_minor": 2,
 "cells": [
  {
   "cell_type": "code",
   "execution_count": 27,
   "metadata": {},
   "outputs": [],
   "source": [
    "# coding:utf8\n",
    "import requests, json"
   ]
  },
  {
   "cell_type": "code",
   "execution_count": 13,
   "metadata": {},
   "outputs": [],
   "source": [
    "# 获取输入的股票信息\n",
    "def get_stock_with_input():\n",
    "\n",
    "    code_name = input(\"输入查询的股票名称及代码，如'招商银行-22600036.SH,'\")\n",
    "    stock_code = ''\n",
    "    stock_name = ''\n",
    "    if code_name == '':\n",
    "        stock_code = '22600036.SH'\n",
    "        stock_name = '招商银行'\n",
    "    else:\n",
    "        stock_name = code_name.split('-')[0]\n",
    "        stock_code = code_name.split('-')[1]\n",
    "\n",
    "    print('股票名称:',stock_name)\n",
    "    print('股票代码:',stock_code)\n",
    "\n",
    "    return (stock_name, stock_code)"
   ]
  },
  {
   "cell_type": "code",
   "execution_count": 15,
   "metadata": {},
   "outputs": [
    {
     "output_type": "stream",
     "name": "stdout",
     "text": [
      "股票名称: 招商银行\n股票代码: 22600036.SH\n"
     ]
    },
    {
     "output_type": "execute_result",
     "data": {
      "text/plain": [
       "'招商银行'"
      ]
     },
     "metadata": {},
     "execution_count": 15
    }
   ],
   "source": [
    "stock_name, stock_code = get_stock_with_input()\n",
    "stock_name"
   ]
  },
  {
   "cell_type": "code",
   "execution_count": 42,
   "metadata": {},
   "outputs": [],
   "source": [
    "def get_north_with_stock_code(stock_code):\n",
    "    url = 'https://datacenter.eastmoney.com/securities/api/data/get?type=RPT_MUTUAL_STOCK_HOLDRANKN&sty=SECURITY_CODE,SECUCODE,SECURITY_NAME,TRADE_DATE,IS_ADJ_DATE,HOLD_MARKET_CAP,HOLD_SHARES,FREE_SHARES_RATIO,TOTAL_SHARES_RATIO,PARTICIPANT_NUM,ADD_MARKET_CAP,ADD_SHARES_REPAIR,ADD_SHARES_AMP,CLOSE_PRICE,CHANGE_RATE,MUTUAL_TYPE&callback=&extraCols=&filter=(INTERVAL_TYPE=\"1\")(MUTUAL_TYPE=\"001\")(SECUCODE=\"{}\")&p=1&ps=100&sr=-1&st=TRADE_DATE&token=&var=&source=DataCenter&client=APP'.format(stock_code)\n",
    "    response = requests.get(url)\n",
    "    print(json.dumps(response.json(), indent=4))\n",
    "    if response.status_code == 200:\n",
    "        response_json = response.json()\n",
    "        if response_json['success'] is True:\n",
    "            return response_json['result']['data']\n",
    "    else:\n",
    "        print('数据请求失败，请重试.')\n",
    "\n"
   ]
  },
  {
   "cell_type": "code",
   "execution_count": 43,
   "metadata": {
    "tags": [
     "outputPrepend"
    ]
   },
   "outputs": [
    {
     "output_type": "stream",
     "name": "stdout",
     "text": [
      "ES_RATIO\": 4.0051,\n                \"PARTICIPANT_NUM\": 58,\n                \"ADD_MARKET_CAP\": 49668915.7723,\n                \"ADD_SHARES_REPAIR\": 546197,\n                \"ADD_SHARES_AMP\": 0.43624402,\n                \"CLOSE_PRICE\": 90.39,\n                \"CHANGE_RATE\": 0,\n                \"MUTUAL_TYPE\": \"001\"\n            },\n            {\n                \"SECURITY_CODE\": \"600309\",\n                \"SECUCODE\": \"600309.SH\",\n                \"SECURITY_NAME\": \"\\u4e07\\u534e\\u5316\\u5b66\",\n                \"TRADE_DATE\": \"2020-11-17 00:00:00\",\n                \"IS_ADJ_DATE\": \"\\u5426\",\n                \"HOLD_MARKET_CAP\": 11317231772.13,\n                \"HOLD_SHARES\": 125204467,\n                \"FREE_SHARES_RATIO\": 8.794,\n                \"TOTAL_SHARES_RATIO\": 3.9877,\n                \"PARTICIPANT_NUM\": 59,\n                \"ADD_MARKET_CAP\": -6816303.2952,\n                \"ADD_SHARES_REPAIR\": -75282,\n                \"ADD_SHARES_AMP\": -0.06009112,\n                \"CLOSE_PRICE\": 90.39,\n                \"CHANGE_RATE\": -1.696574225122,\n                \"MUTUAL_TYPE\": \"001\"\n            },\n            {\n                \"SECURITY_CODE\": \"600309\",\n                \"SECUCODE\": \"600309.SH\",\n                \"SECURITY_NAME\": \"\\u4e07\\u534e\\u5316\\u5b66\",\n                \"TRADE_DATE\": \"2020-11-16 00:00:00\",\n                \"IS_ADJ_DATE\": \"\\u5426\",\n                \"HOLD_MARKET_CAP\": 11519472920.55,\n                \"HOLD_SHARES\": 125279749,\n                \"FREE_SHARES_RATIO\": 8.7992,\n                \"TOTAL_SHARES_RATIO\": 3.9901,\n                \"PARTICIPANT_NUM\": 58,\n                \"ADD_MARKET_CAP\": -111083657.4224,\n                \"ADD_SHARES_REPAIR\": -1224262,\n                \"ADD_SHARES_AMP\": -0.96776536,\n                \"CLOSE_PRICE\": 91.95,\n                \"CHANGE_RATE\": 4.607508532423,\n                \"MUTUAL_TYPE\": \"001\"\n            },\n            {\n                \"SECURITY_CODE\": \"600309\",\n                \"SECUCODE\": \"600309.SH\",\n                \"SECURITY_NAME\": \"\\u4e07\\u534e\\u5316\\u5b66\",\n                \"TRADE_DATE\": \"2020-11-13 00:00:00\",\n                \"IS_ADJ_DATE\": \"\\u5426\",\n                \"HOLD_MARKET_CAP\": 11119702566.9,\n                \"HOLD_SHARES\": 126504011,\n                \"FREE_SHARES_RATIO\": 8.8852,\n                \"TOTAL_SHARES_RATIO\": 4.0291,\n                \"PARTICIPANT_NUM\": 58,\n                \"ADD_MARKET_CAP\": 31745818.1546,\n                \"ADD_SHARES_REPAIR\": 361643,\n                \"ADD_SHARES_AMP\": 0.28669432,\n                \"CLOSE_PRICE\": 87.9,\n                \"CHANGE_RATE\": -2.851458885942,\n                \"MUTUAL_TYPE\": \"001\"\n            },\n            {\n                \"SECURITY_CODE\": \"600309\",\n                \"SECUCODE\": \"600309.SH\",\n                \"SECURITY_NAME\": \"\\u4e07\\u534e\\u5316\\u5b66\",\n                \"TRADE_DATE\": \"2020-11-12 00:00:00\",\n                \"IS_ADJ_DATE\": \"\\u5426\",\n                \"HOLD_MARKET_CAP\": 11413361456.64,\n                \"HOLD_SHARES\": 126142368,\n                \"FREE_SHARES_RATIO\": 8.8598,\n                \"TOTAL_SHARES_RATIO\": 4.0176,\n                \"PARTICIPANT_NUM\": 58,\n                \"ADD_MARKET_CAP\": -4724404.1856,\n                \"ADD_SHARES_REPAIR\": -52464,\n                \"ADD_SHARES_AMP\": -0.04157381,\n                \"CLOSE_PRICE\": 90.48,\n                \"CHANGE_RATE\": 2.237288135593,\n                \"MUTUAL_TYPE\": \"001\"\n            },\n            {\n                \"SECURITY_CODE\": \"600309\",\n                \"SECUCODE\": \"600309.SH\",\n                \"SECURITY_NAME\": \"\\u4e07\\u534e\\u5316\\u5b66\",\n                \"TRADE_DATE\": \"2020-11-11 00:00:00\",\n                \"IS_ADJ_DATE\": \"\\u5426\",\n                \"HOLD_MARKET_CAP\": 11168242632,\n                \"HOLD_SHARES\": 126194832,\n                \"FREE_SHARES_RATIO\": 8.8635,\n                \"TOTAL_SHARES_RATIO\": 4.0193,\n                \"PARTICIPANT_NUM\": 59,\n                \"ADD_MARKET_CAP\": 114904471.8071,\n                \"ADD_SHARES_REPAIR\": 1284769,\n                \"ADD_SHARES_AMP\": 1.02855524,\n                \"CLOSE_PRICE\": 88.5,\n                \"CHANGE_RATE\": -1.928191489362,\n                \"MUTUAL_TYPE\": \"001\"\n            },\n            {\n                \"SECURITY_CODE\": \"600309\",\n                \"SECUCODE\": \"600309.SH\",\n                \"SECURITY_NAME\": \"\\u4e07\\u534e\\u5316\\u5b66\",\n                \"TRADE_DATE\": \"2020-11-10 00:00:00\",\n                \"IS_ADJ_DATE\": \"\\u5426\",\n                \"HOLD_MARKET_CAP\": 11271884085.12,\n                \"HOLD_SHARES\": 124910063,\n                \"FREE_SHARES_RATIO\": 8.7733,\n                \"TOTAL_SHARES_RATIO\": 3.9783,\n                \"PARTICIPANT_NUM\": 59,\n                \"ADD_MARKET_CAP\": -13847551.8324,\n                \"ADD_SHARES_REPAIR\": -153543,\n                \"ADD_SHARES_AMP\": -0.12277193,\n                \"CLOSE_PRICE\": 90.24,\n                \"CHANGE_RATE\": 3.24942791762,\n                \"MUTUAL_TYPE\": \"001\"\n            },\n            {\n                \"SECURITY_CODE\": \"600309\",\n                \"SECUCODE\": \"600309.SH\",\n                \"SECURITY_NAME\": \"\\u4e07\\u534e\\u5316\\u5b66\",\n                \"TRADE_DATE\": \"2020-11-09 00:00:00\",\n                \"IS_ADJ_DATE\": \"\\u5426\",\n                \"HOLD_MARKET_CAP\": 10930559164.4,\n                \"HOLD_SHARES\": 125063606,\n                \"FREE_SHARES_RATIO\": 8.7841,\n                \"TOTAL_SHARES_RATIO\": 3.9832,\n                \"PARTICIPANT_NUM\": 58,\n                \"ADD_MARKET_CAP\": -3153724.9185,\n                \"ADD_SHARES_REPAIR\": -36173,\n                \"ADD_SHARES_AMP\": -0.02891532,\n                \"CLOSE_PRICE\": 87.4,\n                \"CHANGE_RATE\": 1.793617516888,\n                \"MUTUAL_TYPE\": \"001\"\n            },\n            {\n                \"SECURITY_CODE\": \"600309\",\n                \"SECUCODE\": \"600309.SH\",\n                \"SECURITY_NAME\": \"\\u4e07\\u534e\\u5316\\u5b66\",\n                \"TRADE_DATE\": \"2020-11-06 00:00:00\",\n                \"IS_ADJ_DATE\": \"\\u5426\",\n                \"HOLD_MARKET_CAP\": 10741067024.94,\n                \"HOLD_SHARES\": 125099779,\n                \"FREE_SHARES_RATIO\": 8.7866,\n                \"TOTAL_SHARES_RATIO\": 3.9844,\n                \"PARTICIPANT_NUM\": 56,\n                \"ADD_MARKET_CAP\": -116019361.8576,\n                \"ADD_SHARES_REPAIR\": -1358706,\n                \"ADD_SHARES_AMP\": -1.0744285,\n                \"CLOSE_PRICE\": 85.86,\n                \"CHANGE_RATE\": 2.764811490126,\n                \"MUTUAL_TYPE\": \"001\"\n            },\n            {\n                \"SECURITY_CODE\": \"600309\",\n                \"SECUCODE\": \"600309.SH\",\n                \"SECURITY_NAME\": \"\\u4e07\\u534e\\u5316\\u5b66\",\n                \"TRADE_DATE\": \"2020-11-05 00:00:00\",\n                \"IS_ADJ_DATE\": \"\\u5426\",\n                \"HOLD_MARKET_CAP\": 10565606421.75,\n                \"HOLD_SHARES\": 126458485,\n                \"FREE_SHARES_RATIO\": 8.882,\n                \"TOTAL_SHARES_RATIO\": 4.0277,\n                \"PARTICIPANT_NUM\": 58,\n                \"ADD_MARKET_CAP\": 43761970.89,\n                \"ADD_SHARES_REPAIR\": 526020,\n                \"ADD_SHARES_AMP\": 0.41770007,\n                \"CLOSE_PRICE\": 83.55,\n                \"CHANGE_RATE\": 0.505232767954,\n                \"MUTUAL_TYPE\": \"001\"\n            },\n            {\n                \"SECURITY_CODE\": \"600309\",\n                \"SECUCODE\": \"600309.SH\",\n                \"SECURITY_NAME\": \"\\u4e07\\u534e\\u5316\\u5b66\",\n                \"TRADE_DATE\": \"2020-11-04 00:00:00\",\n                \"IS_ADJ_DATE\": \"\\u5426\",\n                \"HOLD_MARKET_CAP\": 10468765815.45,\n                \"HOLD_SHARES\": 125932465,\n                \"FREE_SHARES_RATIO\": 8.8451,\n                \"TOTAL_SHARES_RATIO\": 4.0109,\n                \"PARTICIPANT_NUM\": 58,\n                \"ADD_MARKET_CAP\": 40456146.2739,\n                \"ADD_SHARES_REPAIR\": 493797,\n                \"ADD_SHARES_AMP\": 0.39365613,\n                \"CLOSE_PRICE\": 83.13,\n                \"CHANGE_RATE\": 3.847595252967,\n                \"MUTUAL_TYPE\": \"001\"\n            },\n            {\n                \"SECURITY_CODE\": \"600309\",\n                \"SECUCODE\": \"600309.SH\",\n                \"SECURITY_NAME\": \"\\u4e07\\u534e\\u5316\\u5b66\",\n                \"TRADE_DATE\": \"2020-11-03 00:00:00\",\n                \"IS_ADJ_DATE\": \"\\u5426\",\n                \"HOLD_MARKET_CAP\": 10041365373.4,\n                \"HOLD_SHARES\": 125438668,\n                \"FREE_SHARES_RATIO\": 8.8104,\n                \"TOTAL_SHARES_RATIO\": 3.9952,\n                \"PARTICIPANT_NUM\": 59,\n                \"ADD_MARKET_CAP\": 42094978.741,\n                \"ADD_SHARES_REPAIR\": 527045,\n                \"ADD_SHARES_AMP\": 0.42193431,\n                \"CLOSE_PRICE\": 80.05,\n                \"CHANGE_RATE\": 0.590600653431,\n                \"MUTUAL_TYPE\": \"001\"\n            },\n            {\n                \"SECURITY_CODE\": \"600309\",\n                \"SECUCODE\": \"600309.SH\",\n                \"SECURITY_NAME\": \"\\u4e07\\u534e\\u5316\\u5b66\",\n                \"TRADE_DATE\": \"2020-11-02 00:00:00\",\n                \"IS_ADJ_DATE\": \"\\u5426\",\n                \"HOLD_MARKET_CAP\": 9940466958.34,\n                \"HOLD_SHARES\": 124911623,\n                \"FREE_SHARES_RATIO\": 8.7734,\n                \"TOTAL_SHARES_RATIO\": 3.9784,\n                \"PARTICIPANT_NUM\": 59,\n                \"ADD_MARKET_CAP\": 150212146.9212,\n                \"ADD_SHARES_REPAIR\": 1881516,\n                \"ADD_SHARES_AMP\": 1.52931347,\n                \"CLOSE_PRICE\": 79.58,\n                \"CHANGE_RATE\": 1.388711937826,\n                \"MUTUAL_TYPE\": \"001\"\n            },\n            {\n                \"SECURITY_CODE\": \"600309\",\n                \"SECUCODE\": \"600309.SH\",\n                \"SECURITY_NAME\": \"\\u4e07\\u534e\\u5316\\u5b66\",\n                \"TRADE_DATE\": \"2020-10-30 00:00:00\",\n                \"IS_ADJ_DATE\": \"\\u5426\",\n                \"HOLD_MARKET_CAP\": 9656633098.43,\n                \"HOLD_SHARES\": 123030107,\n                \"FREE_SHARES_RATIO\": 8.6412,\n                \"TOTAL_SHARES_RATIO\": 3.9185,\n                \"PARTICIPANT_NUM\": 61,\n                \"ADD_MARKET_CAP\": 118634750.869,\n                \"ADD_SHARES_REPAIR\": 1490435,\n                \"ADD_SHARES_AMP\": 1.22629507,\n                \"CLOSE_PRICE\": 78.49,\n                \"CHANGE_RATE\": 0.050987890376,\n                \"MUTUAL_TYPE\": \"001\"\n            },\n            {\n                \"SECURITY_CODE\": \"600309\",\n                \"SECUCODE\": \"600309.SH\",\n                \"SECURITY_NAME\": \"\\u4e07\\u534e\\u5316\\u5b66\",\n                \"TRADE_DATE\": \"2020-10-29 00:00:00\",\n                \"IS_ADJ_DATE\": \"\\u5426\",\n                \"HOLD_MARKET_CAP\": 9534787268.4,\n                \"HOLD_SHARES\": 121539672,\n                \"FREE_SHARES_RATIO\": 8.5365,\n                \"TOTAL_SHARES_RATIO\": 3.871,\n                \"PARTICIPANT_NUM\": 58,\n                \"ADD_MARKET_CAP\": -48528277.3248,\n                \"ADD_SHARES_REPAIR\": -613028,\n                \"ADD_SHARES_AMP\": -0.50185383,\n                \"CLOSE_PRICE\": 78.45,\n                \"CHANGE_RATE\": -4.678007290401,\n                \"MUTUAL_TYPE\": \"001\"\n            },\n            {\n                \"SECURITY_CODE\": \"600309\",\n                \"SECUCODE\": \"600309.SH\",\n                \"SECURITY_NAME\": \"\\u4e07\\u534e\\u5316\\u5b66\",\n                \"TRADE_DATE\": \"2020-10-28 00:00:00\",\n                \"IS_ADJ_DATE\": \"\\u5426\",\n                \"HOLD_MARKET_CAP\": 10053167210,\n                \"HOLD_SHARES\": 122152700,\n                \"FREE_SHARES_RATIO\": 8.5796,\n                \"TOTAL_SHARES_RATIO\": 3.8905,\n                \"PARTICIPANT_NUM\": 58,\n                \"ADD_MARKET_CAP\": 65818484.5152,\n                \"ADD_SHARES_REPAIR\": 810317,\n                \"ADD_SHARES_AMP\": 0.66779387,\n                \"CLOSE_PRICE\": 82.3,\n                \"CHANGE_RATE\": 6.070369893027,\n                \"MUTUAL_TYPE\": \"001\"\n            },\n            {\n                \"SECURITY_CODE\": \"600309\",\n                \"SECUCODE\": \"600309.SH\",\n                \"SECURITY_NAME\": \"\\u4e07\\u534e\\u5316\\u5b66\",\n                \"TRADE_DATE\": \"2020-10-27 00:00:00\",\n                \"IS_ADJ_DATE\": \"\\u5426\",\n                \"HOLD_MARKET_CAP\": 9414955496.97,\n                \"HOLD_SHARES\": 121342383,\n                \"FREE_SHARES_RATIO\": 8.5227,\n                \"TOTAL_SHARES_RATIO\": 3.8647,\n                \"PARTICIPANT_NUM\": 56,\n                \"ADD_MARKET_CAP\": 112960698.6044,\n                \"ADD_SHARES_REPAIR\": 1456366,\n                \"ADD_SHARES_AMP\": 1.21479221,\n                \"CLOSE_PRICE\": 77.59,\n                \"CHANGE_RATE\": 1.424836601307,\n                \"MUTUAL_TYPE\": \"001\"\n            },\n            {\n                \"SECURITY_CODE\": \"600309\",\n                \"SECUCODE\": \"600309.SH\",\n                \"SECURITY_NAME\": \"\\u4e07\\u534e\\u5316\\u5b66\",\n                \"TRADE_DATE\": \"2020-10-22 00:00:00\",\n                \"IS_ADJ_DATE\": \"\\u5426\",\n                \"HOLD_MARKET_CAP\": 9400262592.97,\n                \"HOLD_SHARES\": 119886017,\n                \"FREE_SHARES_RATIO\": 8.4204,\n                \"TOTAL_SHARES_RATIO\": 3.8183,\n                \"PARTICIPANT_NUM\": 55,\n                \"ADD_MARKET_CAP\": -67255408.0813,\n                \"ADD_SHARES_REPAIR\": -855013,\n                \"ADD_SHARES_AMP\": -0.7081379,\n                \"CLOSE_PRICE\": 78.41,\n                \"CHANGE_RATE\": -0.897371081901,\n                \"MUTUAL_TYPE\": \"001\"\n            },\n            {\n                \"SECURITY_CODE\": \"600309\",\n                \"SECUCODE\": \"600309.SH\",\n                \"SECURITY_NAME\": \"\\u4e07\\u534e\\u5316\\u5b66\",\n                \"TRADE_DATE\": \"2020-10-21 00:00:00\",\n                \"IS_ADJ_DATE\": \"\\u5426\",\n                \"HOLD_MARKET_CAP\": 9553030293.6,\n                \"HOLD_SHARES\": 120741030,\n                \"FREE_SHARES_RATIO\": 8.4805,\n                \"TOTAL_SHARES_RATIO\": 3.8456,\n                \"PARTICIPANT_NUM\": 57,\n                \"ADD_MARKET_CAP\": -36870316.2877,\n                \"ADD_SHARES_REPAIR\": -463861,\n                \"ADD_SHARES_AMP\": -0.38270815,\n                \"CLOSE_PRICE\": 79.12,\n                \"CHANGE_RATE\": -0.976220275344,\n                \"MUTUAL_TYPE\": \"001\"\n            },\n            {\n                \"SECURITY_CODE\": \"600309\",\n                \"SECUCODE\": \"600309.SH\",\n                \"SECURITY_NAME\": \"\\u4e07\\u534e\\u5316\\u5b66\",\n                \"TRADE_DATE\": \"2020-10-20 00:00:00\",\n                \"IS_ADJ_DATE\": \"\\u5426\",\n                \"HOLD_MARKET_CAP\": 9684270790.9,\n                \"HOLD_SHARES\": 121204891,\n                \"FREE_SHARES_RATIO\": 8.513,\n                \"TOTAL_SHARES_RATIO\": 3.8603,\n                \"PARTICIPANT_NUM\": 55,\n                \"ADD_MARKET_CAP\": -47978834.9122,\n                \"ADD_SHARES_REPAIR\": -603194,\n                \"ADD_SHARES_AMP\": -0.4952003,\n                \"CLOSE_PRICE\": 79.9,\n                \"CHANGE_RATE\": 0.756620428752,\n                \"MUTUAL_TYPE\": \"001\"\n            },\n            {\n                \"SECURITY_CODE\": \"600309\",\n                \"SECUCODE\": \"600309.SH\",\n                \"SECURITY_NAME\": \"\\u4e07\\u534e\\u5316\\u5b66\",\n                \"TRADE_DATE\": \"2020-10-19 00:00:00\",\n                \"IS_ADJ_DATE\": \"\\u5426\",\n                \"HOLD_MARKET_CAP\": 9659381140.5,\n                \"HOLD_SHARES\": 121808085,\n                \"FREE_SHARES_RATIO\": 8.5554,\n                \"TOTAL_SHARES_RATIO\": 3.8796,\n                \"PARTICIPANT_NUM\": 57,\n                \"ADD_MARKET_CAP\": -50811201.4081,\n                \"ADD_SHARES_REPAIR\": -635333,\n                \"ADD_SHARES_AMP\": -0.51887885,\n                \"CLOSE_PRICE\": 79.3,\n                \"CHANGE_RATE\": -0.376884422111,\n                \"MUTUAL_TYPE\": \"001\"\n            },\n            {\n                \"SECURITY_CODE\": \"600309\",\n                \"SECUCODE\": \"600309.SH\",\n                \"SECURITY_NAME\": \"\\u4e07\\u534e\\u5316\\u5b66\",\n                \"TRADE_DATE\": \"2020-10-16 00:00:00\",\n                \"IS_ADJ_DATE\": \"\\u5426\",\n                \"HOLD_MARKET_CAP\": 9746496072.8,\n                \"HOLD_SHARES\": 122443418,\n                \"FREE_SHARES_RATIO\": 8.6,\n                \"TOTAL_SHARES_RATIO\": 3.8998,\n                \"PARTICIPANT_NUM\": 55,\n                \"ADD_MARKET_CAP\": 111876243.6215,\n                \"ADD_SHARES_REPAIR\": 1404131,\n                \"ADD_SHARES_AMP\": 1.16006219,\n                \"CLOSE_PRICE\": 79.6,\n                \"CHANGE_RATE\": 0.037702651753,\n                \"MUTUAL_TYPE\": \"001\"\n            },\n            {\n                \"SECURITY_CODE\": \"600309\",\n                \"SECUCODE\": \"600309.SH\",\n                \"SECURITY_NAME\": \"\\u4e07\\u534e\\u5316\\u5b66\",\n                \"TRADE_DATE\": \"2020-10-15 00:00:00\",\n                \"IS_ADJ_DATE\": \"\\u5426\",\n                \"HOLD_MARKET_CAP\": 9631096066.59,\n                \"HOLD_SHARES\": 121039287,\n                \"FREE_SHARES_RATIO\": 8.5014,\n                \"TOTAL_SHARES_RATIO\": 3.8551,\n                \"PARTICIPANT_NUM\": 56,\n                \"ADD_MARKET_CAP\": 110031584.7572,\n                \"ADD_SHARES_REPAIR\": 1378379,\n                \"ADD_SHARES_AMP\": 1.15190418,\n                \"CLOSE_PRICE\": 79.57,\n                \"CHANGE_RATE\": -0.723643169058,\n                \"MUTUAL_TYPE\": \"001\"\n            },\n            {\n                \"SECURITY_CODE\": \"600309\",\n                \"SECUCODE\": \"600309.SH\",\n                \"SECURITY_NAME\": \"\\u4e07\\u534e\\u5316\\u5b66\",\n                \"TRADE_DATE\": \"2020-10-14 00:00:00\",\n                \"IS_ADJ_DATE\": \"\\u5426\",\n                \"HOLD_MARKET_CAP\": 9590821776.2,\n                \"HOLD_SHARES\": 119660908,\n                \"FREE_SHARES_RATIO\": 8.4046,\n                \"TOTAL_SHARES_RATIO\": 3.8112,\n                \"PARTICIPANT_NUM\": 58,\n                \"ADD_MARKET_CAP\": 164637129.9435,\n                \"ADD_SHARES_REPAIR\": 2048987,\n                \"ADD_SHARES_AMP\": 1.74215928,\n                \"CLOSE_PRICE\": 80.15,\n                \"CHANGE_RATE\": 1.327433628319,\n                \"MUTUAL_TYPE\": \"001\"\n            },\n            {\n                \"SECURITY_CODE\": \"600309\",\n                \"SECUCODE\": \"600309.SH\",\n                \"SECURITY_NAME\": \"\\u4e07\\u534e\\u5316\\u5b66\",\n                \"TRADE_DATE\": \"2020-10-12 00:00:00\",\n                \"IS_ADJ_DATE\": \"\\u5426\",\n                \"HOLD_MARKET_CAP\": 9079640301.2,\n                \"HOLD_SHARES\": 117611921,\n                \"FREE_SHARES_RATIO\": 8.2607,\n                \"TOTAL_SHARES_RATIO\": 3.7459,\n                \"PARTICIPANT_NUM\": 58,\n                \"ADD_MARKET_CAP\": 331390308.6084,\n                \"ADD_SHARES_REPAIR\": 4383922,\n                \"ADD_SHARES_AMP\": 3.87176497,\n                \"CLOSE_PRICE\": 77.2,\n                \"CHANGE_RATE\": 6.925207756233,\n                \"MUTUAL_TYPE\": \"001\"\n            },\n            {\n                \"SECURITY_CODE\": \"600309\",\n                \"SECUCODE\": \"600309.SH\",\n                \"SECURITY_NAME\": \"\\u4e07\\u534e\\u5316\\u5b66\",\n                \"TRADE_DATE\": \"2020-10-09 00:00:00\",\n                \"IS_ADJ_DATE\": \"\\u5426\",\n                \"HOLD_MARKET_CAP\": 8175061527.8,\n                \"HOLD_SHARES\": 113227999,\n                \"FREE_SHARES_RATIO\": 7.9528,\n                \"TOTAL_SHARES_RATIO\": 3.6063,\n                \"PARTICIPANT_NUM\": 57,\n                \"ADD_MARKET_CAP\": -29483566.8183,\n                \"ADD_SHARES_REPAIR\": -411519,\n                \"ADD_SHARES_AMP\": -0.36212667,\n                \"CLOSE_PRICE\": 72.2,\n                \"CHANGE_RATE\": 4.184704184704,\n                \"MUTUAL_TYPE\": \"001\"\n            },\n            {\n                \"SECURITY_CODE\": \"600309\",\n                \"SECUCODE\": \"600309.SH\",\n                \"SECURITY_NAME\": \"\\u4e07\\u534e\\u5316\\u5b66\",\n                \"TRADE_DATE\": \"2020-09-30 00:00:00\",\n                \"IS_ADJ_DATE\": \"\\u5426\",\n                \"HOLD_MARKET_CAP\": 7875218597.4,\n                \"HOLD_SHARES\": 113639518,\n                \"FREE_SHARES_RATIO\": 7.9817,\n                \"TOTAL_SHARES_RATIO\": 3.6194,\n                \"PARTICIPANT_NUM\": 57,\n                \"ADD_MARKET_CAP\": 113639278.4417,\n                \"ADD_SHARES_REPAIR\": 1634653,\n                \"ADD_SHARES_AMP\": 1.45944821,\n                \"CLOSE_PRICE\": 69.3,\n                \"CHANGE_RATE\": -1.478532840489,\n                \"MUTUAL_TYPE\": \"001\"\n            }\n        ],\n        \"count\": 515\n    },\n    \"success\": true,\n    \"message\": \"ok\",\n    \"code\": 0\n}\n"
     ]
    },
    {
     "output_type": "error",
     "ename": "AttributeError",
     "evalue": "'dict' object has no attribute 'success'",
     "traceback": [
      "\u001b[0;31m---------------------------------------------------------------------------\u001b[0m",
      "\u001b[0;31mAttributeError\u001b[0m                            Traceback (most recent call last)",
      "\u001b[0;32m<ipython-input-43-4a1c25164809>\u001b[0m in \u001b[0;36m<module>\u001b[0;34m\u001b[0m\n\u001b[1;32m      1\u001b[0m \u001b[0mbreakpoint\u001b[0m\u001b[0;34m(\u001b[0m\u001b[0;34m)\u001b[0m\u001b[0;34m\u001b[0m\u001b[0;34m\u001b[0m\u001b[0m\n\u001b[0;32m----> 2\u001b[0;31m \u001b[0mnorth_arr\u001b[0m \u001b[0;34m=\u001b[0m \u001b[0mget_north_with_stock_code\u001b[0m\u001b[0;34m(\u001b[0m\u001b[0;34m'600309.SH'\u001b[0m\u001b[0;34m)\u001b[0m\u001b[0;34m\u001b[0m\u001b[0;34m\u001b[0m\u001b[0m\n\u001b[0m\u001b[1;32m      3\u001b[0m \u001b[0mprint\u001b[0m\u001b[0;34m(\u001b[0m\u001b[0mnorth_arr\u001b[0m\u001b[0;34m)\u001b[0m\u001b[0;34m\u001b[0m\u001b[0;34m\u001b[0m\u001b[0m\n",
      "\u001b[0;32m<ipython-input-42-98e41666d08c>\u001b[0m in \u001b[0;36mget_north_with_stock_code\u001b[0;34m(stock_code)\u001b[0m\n\u001b[1;32m      5\u001b[0m     \u001b[0;32mif\u001b[0m \u001b[0mresponse\u001b[0m\u001b[0;34m.\u001b[0m\u001b[0mstatus_code\u001b[0m \u001b[0;34m==\u001b[0m \u001b[0;36m200\u001b[0m\u001b[0;34m:\u001b[0m\u001b[0;34m\u001b[0m\u001b[0;34m\u001b[0m\u001b[0m\n\u001b[1;32m      6\u001b[0m         \u001b[0mresponse_json\u001b[0m \u001b[0;34m=\u001b[0m \u001b[0mresponse\u001b[0m\u001b[0;34m.\u001b[0m\u001b[0mjson\u001b[0m\u001b[0;34m(\u001b[0m\u001b[0;34m)\u001b[0m\u001b[0;34m\u001b[0m\u001b[0;34m\u001b[0m\u001b[0m\n\u001b[0;32m----> 7\u001b[0;31m         \u001b[0;32mif\u001b[0m \u001b[0mresponse_json\u001b[0m\u001b[0;34m.\u001b[0m\u001b[0msuccess\u001b[0m \u001b[0;32mis\u001b[0m \u001b[0;32mTrue\u001b[0m\u001b[0;34m:\u001b[0m\u001b[0;34m\u001b[0m\u001b[0;34m\u001b[0m\u001b[0m\n\u001b[0m\u001b[1;32m      8\u001b[0m             \u001b[0;32mreturn\u001b[0m \u001b[0mresponse_json\u001b[0m\u001b[0;34m[\u001b[0m\u001b[0;34m'result'\u001b[0m\u001b[0;34m]\u001b[0m\u001b[0;34m[\u001b[0m\u001b[0;34m'data'\u001b[0m\u001b[0;34m]\u001b[0m\u001b[0;34m\u001b[0m\u001b[0;34m\u001b[0m\u001b[0m\n\u001b[1;32m      9\u001b[0m     \u001b[0;32melse\u001b[0m\u001b[0;34m:\u001b[0m\u001b[0;34m\u001b[0m\u001b[0;34m\u001b[0m\u001b[0m\n",
      "\u001b[0;31mAttributeError\u001b[0m: 'dict' object has no attribute 'success'"
     ]
    }
   ],
   "source": [
    "north_arr = get_north_with_stock_code('600309.SH')\n",
    "print(north_arr)"
   ]
  },
  {
   "cell_type": "code",
   "execution_count": null,
   "metadata": {},
   "outputs": [],
   "source": []
  }
 ]
}