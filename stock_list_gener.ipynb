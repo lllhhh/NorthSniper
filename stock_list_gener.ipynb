{
 "metadata": {
  "language_info": {
   "codemirror_mode": {
    "name": "ipython",
    "version": 3
   },
   "file_extension": ".py",
   "mimetype": "text/x-python",
   "name": "python",
   "nbconvert_exporter": "python",
   "pygments_lexer": "ipython3",
   "version": "3.7.2-final"
  },
  "orig_nbformat": 2,
  "kernelspec": {
   "name": "python3",
   "display_name": "Python 3.7.2 64-bit",
   "metadata": {
    "interpreter": {
     "hash": "df955ce39d0f31d56d4bb2fe0a613e5326ba60723fd33d8303a3aede8f65715c"
    }
   }
  }
 },
 "nbformat": 4,
 "nbformat_minor": 2,
 "cells": [
  {
   "source": [
    "# 生成供查询股票列表"
   ],
   "cell_type": "markdown",
   "metadata": {}
  },
  {
   "cell_type": "code",
   "execution_count": null,
   "metadata": {},
   "outputs": [],
   "source": [
    "import time\n",
    "import requests"
   ]
  },
  {
   "cell_type": "code",
   "execution_count": 43,
   "metadata": {},
   "outputs": [
    {
     "output_type": "stream",
     "name": "stdout",
     "text": [
      "lucky！查到A股相关公司5家！\n",
      "[{'Code': '601872', 'Name': '招商轮船', 'PinYin': 'ZSLC', 'ID': '6018721', 'JYS': '2', 'Classify': 'AStock', 'MarketType': '1', 'SecurityTypeName': '沪A', 'SecurityType': '1', 'MktNum': '1', 'TypeUS': '2', 'QuoteID': '1.601872', 'UnifiedCode': '601872', 'InnerCode': '40410606043339'}, {'Code': '601975', 'Name': '招商南油', 'PinYin': 'ZSNY', 'ID': '6019751', 'JYS': '2', 'Classify': 'AStock', 'MarketType': '1', 'SecurityTypeName': '沪A', 'SecurityType': '1', 'MktNum': '1', 'TypeUS': '2', 'QuoteID': '1.601975', 'UnifiedCode': '601975', 'InnerCode': '21033473253771'}, {'Code': '600036', 'Name': '招商银行', 'PinYin': 'ZSYH', 'ID': '6000361', 'JYS': '2', 'Classify': 'AStock', 'MarketType': '1', 'SecurityTypeName': '沪A', 'SecurityType': '1', 'MktNum': '1', 'TypeUS': '2', 'QuoteID': '1.600036', 'UnifiedCode': '600036', 'InnerCode': '39766115721573'}, {'Code': '600999', 'Name': '招商证券', 'PinYin': 'ZSZQ', 'ID': '6009991', 'JYS': '2', 'Classify': 'AStock', 'MarketType': '1', 'SecurityTypeName': '沪A', 'SecurityType': '1', 'MktNum': '1', 'TypeUS': '2', 'QuoteID': '1.600999', 'UnifiedCode': '600999', 'InnerCode': '33267893332293'}, {'Code': '000024', 'Name': '招商地产', 'PinYin': 'ZSDC', 'ID': '0000242', 'JYS': '6', 'Classify': 'AStock', 'MarketType': '2', 'SecurityTypeName': '深A', 'SecurityType': '2', 'MktNum': '0', 'TypeUS': '6', 'QuoteID': '0.000024', 'UnifiedCode': '000024', 'InnerCode': '26537351126762'}]\n",
      "{'Code': '601872', 'Name': '招商轮船', 'PinYin': 'ZSLC', 'ID': '6018721', 'JYS': '2', 'Classify': 'AStock', 'MarketType': '1', 'SecurityTypeName': '沪A', 'SecurityType': '1', 'MktNum': '1', 'TypeUS': '2', 'QuoteID': '1.601872', 'UnifiedCode': '601872', 'InnerCode': '40410606043339'}\n"
     ]
    }
   ],
   "source": [
    "code_name = input(\"输入查询的股票名称或代码，如'万华化学'、'600309'：\")\n",
    "\n",
    "stock_code = ''\n",
    "stock_name = ''\n",
    "if code_name == '':\n",
    "    print('不能查空哟！！！')\n",
    "else:\n",
    "    # 查询股票\n",
    "   code = search_stock(code_name)\n",
    "   print(code)"
   ]
  },
  {
   "cell_type": "code",
   "execution_count": null,
   "metadata": {},
   "outputs": [],
   "source": [
    "# 获取输入的股票信息\n",
    "def get_stock_with_input():\n",
    "\n",
    "    code_name = input(\"输入查询的股票名称或代码，如'万华化学'、'600309.SH','\")\n",
    "    stock_code = ''\n",
    "    stock_name = ''\n",
    "    if code_name == '':\n",
    "        stock_code = '600309.SH'\n",
    "        stock_name = '万华化学'\n",
    "    else:\n",
    "        stock_name = code_name.split('-')[0]\n",
    "        stock_code = code_name.split('-')[1]\n",
    "\n",
    "    print('股票名称:',stock_name)\n",
    "    print('股票代码:',stock_code)\n",
    "\n",
    "    return (stock_name, stock_code)"
   ]
  },
  {
   "cell_type": "code",
   "execution_count": 42,
   "metadata": {},
   "outputs": [],
   "source": [
    "# 查询股票\n",
    "def search_stock(input_word):\n",
    "    time_stamp = int(time.time() * 1000 )\n",
    "    url = 'http://searchapi.eastmoney.com/api/suggest/get?input={}&type=14&token=D43BF722C8E33BDC906FB84D85E326E8&markettype=&mktnum=&jys=&classify=&securitytype=1,2,6,19,25&count=5&_={}'.format(input_word, time_stamp)\n",
    "\n",
    "    response = requests.get(url=url)\n",
    "    if response.status_code == 200:\n",
    "        response_json = response.json()\n",
    "        if response_json['QuotationCodeTable'] is not None:\n",
    "            codes = response_json['QuotationCodeTable']['Data']\n",
    "            if codes is not list or len(codes)==0:\n",
    "                codes = list(filter(lambda code: code['Classify'] == 'AStock', codes))\n",
    "                if len(codes) == 0:\n",
    "                    print('未查到相关A股上市公司！')\n",
    "                elif len(codes) > 0:\n",
    "                    print('lucky！查到A股相关公司{}家！'.format(len(codes)))\n",
    "                    print(codes)\n",
    "                    if len(codes) == 1:\n",
    "                        return codes[0]\n",
    "                    else:\n",
    "                        code_index = input('请输入查询的下标:')\n",
    "                        if code_index.strip() != '':\n",
    "                            return codes[int(code_index)]\n",
    "            else:\n",
    "                print('未查到相关A股上市公司！')\n",
    "        else:\n",
    "            print('未查到相关A股上市公司！')\n"
   ]
  },
  {
   "cell_type": "code",
   "execution_count": null,
   "metadata": {},
   "outputs": [],
   "source": [
    "get_stock_with_input()"
   ]
  },
  {
   "cell_type": "code",
   "execution_count": null,
   "metadata": {},
   "outputs": [],
   "source": []
  }
 ]
}